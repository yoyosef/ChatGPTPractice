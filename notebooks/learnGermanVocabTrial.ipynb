{
 "cells": [
  {
   "cell_type": "code",
   "execution_count": 7,
   "id": "729a9859-5a41-4d5b-b34f-7a37474bf896",
   "metadata": {},
   "outputs": [
    {
     "data": {
      "text/plain": [
       "True"
      ]
     },
     "execution_count": 7,
     "metadata": {},
     "output_type": "execute_result"
    }
   ],
   "source": [
    "from dotenv import load_dotenv\n",
    "load_dotenv()  # take environment variables from .env."
   ]
  },
  {
   "cell_type": "code",
   "execution_count": 8,
   "id": "ab54c4e6-21ea-4353-be1a-dd82616e1b77",
   "metadata": {},
   "outputs": [],
   "source": [
    "from openai import OpenAI\n",
    "client = OpenAI()"
   ]
  },
  {
   "cell_type": "code",
   "execution_count": 13,
   "id": "201bd5a3-a5b0-4cb4-9e64-ec5b3e044651",
   "metadata": {},
   "outputs": [],
   "source": [
    "# Inspired by Article: https://ihsavru.medium.com/how-to-build-your-own-custom-chatgpt-using-python-openai-78e470d1540e\n",
    "def chatbot():\n",
    "  # Keep repeating the following\n",
    "  messages = [{\"role\": \"system\", \"content\": \"You're an assistant that helps the user learn German vocabulary. Give examples of German Phrases and for each their respective translation.\"},\n",
    "             {\"role\": \"user\", \"content\": \"Help me learn the most common words in the German language\"}]\n",
    "    \n",
    "  while True:\n",
    "    # Prompt user for input\n",
    "    message = input(\"User: \")\n",
    "      \n",
    "    # Exit program if user inputs \"quit\"\n",
    "    if message.lower() == \"quit\":\n",
    "      break\n",
    "    \n",
    "    # Add each new message to the list\n",
    "    messages.append({\"role\": \"user\", \"content\": message})\n",
    "      \n",
    "    completion = client.chat.completions.create(\n",
    "    model=\"gpt-4o-mini\",\n",
    "    messages=messages)\n",
    "\n",
    "    # Print the response and add it to the messages list\n",
    "    chat_message = completion.choices[0].message.content\n",
    "    print(f\"Bot: {chat_message}\")\n",
    "    messages.append({\"role\": \"assistant\", \"content\": chat_message})"
   ]
  },
  {
   "cell_type": "code",
   "execution_count": null,
   "id": "94435380-4840-4de0-a0ec-5b06b6f75b8c",
   "metadata": {},
   "outputs": [
    {
     "name": "stdout",
     "output_type": "stream",
     "text": [
      "Start chatting with the bot (type 'quit' to stop)!\n"
     ]
    },
    {
     "name": "stdin",
     "output_type": "stream",
     "text": [
      "User:  hi\n"
     ]
    },
    {
     "name": "stdout",
     "output_type": "stream",
     "text": [
      "Bot: Hello! Let's get started with some common German phrases and their translations. Here are a few to help you out:\n",
      "\n",
      "1. **Guten Morgen!** - Good morning!\n",
      "2. **Guten Tag!** - Good day!\n",
      "3. **Guten Abend!** - Good evening!\n",
      "4. **Gute Nacht!** - Good night!\n",
      "5. **Wie geht's?** - How are you?\n",
      "6. **Danke!** - Thank you!\n",
      "7. **Bitte!** - Please! / You're welcome!\n",
      "8. **Entschuldigung!** - Excuse me! / I'm sorry!\n",
      "9. **Ich verstehe nicht.** - I don't understand.\n",
      "10. **Sprechen Sie Englisch?** - Do you speak English?\n",
      "\n",
      "Feel free to ask for more phrases or specific topics you’d like to learn about!\n"
     ]
    },
    {
     "name": "stdin",
     "output_type": "stream",
     "text": [
      "User:  Please test me\n"
     ]
    },
    {
     "name": "stdout",
     "output_type": "stream",
     "text": [
      "Bot: Sure! I’ll give you a German phrase, and you can try to translate it into English. Here’s your first one:\n",
      "\n",
      "**Wie geht's?**\n",
      "\n",
      "What does this mean in English?\n"
     ]
    },
    {
     "name": "stdin",
     "output_type": "stream",
     "text": [
      "User:  How are you?\n"
     ]
    },
    {
     "name": "stdout",
     "output_type": "stream",
     "text": [
      "Bot: That's correct! \"Wie geht's?\" does mean \"How are you?\" Great job!\n",
      "\n",
      "Here’s another one for you:\n",
      "\n",
      "**Danke!**\n",
      "\n",
      "What does this mean in English?\n"
     ]
    },
    {
     "name": "stdin",
     "output_type": "stream",
     "text": [
      "User:  Thank you\n"
     ]
    },
    {
     "name": "stdout",
     "output_type": "stream",
     "text": [
      "Bot: Exactly right! \"Danke!\" translates to \"Thank you.\" Well done!\n",
      "\n",
      "Let’s try another one:\n",
      "\n",
      "**Entschuldigung!**\n",
      "\n",
      "What is the English translation?\n"
     ]
    },
    {
     "name": "stdin",
     "output_type": "stream",
     "text": [
      "User:  Excuse me\n"
     ]
    },
    {
     "name": "stdout",
     "output_type": "stream",
     "text": [
      "Bot: That's correct again! \"Entschuldigung!\" translates to \"Excuse me!\" or \"I'm sorry.\" Great job!\n",
      "\n",
      "Let’s do one more:\n",
      "\n",
      "**Gute Nacht!**\n",
      "\n",
      "What does this mean in English?\n"
     ]
    },
    {
     "name": "stdin",
     "output_type": "stream",
     "text": [
      "User:  Good night\n"
     ]
    },
    {
     "name": "stdout",
     "output_type": "stream",
     "text": [
      "Bot: That's correct! \"Gute Nacht!\" means \"Good night.\" Well done! \n",
      "\n",
      "Would you like to continue with more translations, or is there a specific area of vocabulary you want to focus on?\n"
     ]
    },
    {
     "name": "stdin",
     "output_type": "stream",
     "text": [
      "User:  keine vs nicht\n"
     ]
    },
    {
     "name": "stdout",
     "output_type": "stream",
     "text": [
      "Bot: Great question! \"keine\" and \"nicht\" are both used to express negation in German, but they are used in different contexts. Here’s a breakdown:\n",
      "\n",
      "### 1. **Keine**\n",
      "- **Usage:** \"Keine\" is used with nouns and generally means \"no\" or \"not any.\" It negates the existence of something.\n",
      "- **Example:** \n",
      "  - **Ich habe keine Zeit.** - I have no time. / I don't have any time.\n",
      "  - **Das ist keine gute Idee.** - That is not a good idea.\n",
      "\n",
      "### 2. **Nicht**\n",
      "- **Usage:** \"Nicht\" is used to negate verbs, adjectives, or whole sentences. It means \"not.\"\n",
      "- **Example:**\n",
      "  - **Ich kann das nicht machen.** - I cannot do that. / I can't do that.\n",
      "  - **Sie ist nicht müde.** - She is not tired.\n",
      "\n",
      "### Summary:\n",
      "- Use **keine** when you're denying a noun (indicating absence).\n",
      "- Use **nicht** when you're denying a verb or adjective (indicating negation).\n",
      "\n",
      "If you’d like more examples or exercises, just let me know!\n"
     ]
    },
    {
     "name": "stdin",
     "output_type": "stream",
     "text": [
      "User:  what about adverbs?\n"
     ]
    },
    {
     "name": "stdout",
     "output_type": "stream",
     "text": [
      "Bot: Good question! In German, adverbs are generally modified by **nicht** for negation, just like in English. You do not use **keine** for adverbs. Here’s how it works:\n",
      "\n",
      "### Using **nicht** with Adverbs\n",
      "\n",
      "- **Example:**\n",
      "  - **Ich laufe nicht schnell.** - I do not run quickly.\n",
      "  - **Er spricht nicht oft.** - He does not speak often.\n",
      "\n",
      "In these cases, **nicht** is used to negate the adverb (e.g., \"schnell\" for quickly, \"oft\" for often).\n",
      "\n",
      "### Summary:\n",
      "\n",
      "- Use **nicht** to negate adverbs, verbs, or adjectives. \n",
      "- Do not use **keine** with adverbs.\n",
      "\n",
      "If you want more examples or practice, feel free to ask!\n"
     ]
    },
    {
     "name": "stdin",
     "output_type": "stream",
     "text": [
      "User:  I want practice with the vocabulary you've taught me. Could we have a short conversation?\n"
     ]
    },
    {
     "name": "stdout",
     "output_type": "stream",
     "text": [
      "Bot: Absolutely! Let's have a short conversation in German. You can respond to each question or statement, and I'll provide the next part. Here we go:\n",
      "\n",
      "**Ich beginne: Guten Morgen! Wie geht's?**  \n",
      "(Good morning! How are you?)\n"
     ]
    },
    {
     "name": "stdin",
     "output_type": "stream",
     "text": [
      "User:  Guten Morgen! Ich Mir leid\n"
     ]
    },
    {
     "name": "stdout",
     "output_type": "stream",
     "text": [
      "Bot: It seems like you’re trying to say “I’m sorry,” but the correct phrase is **“Es tut mir leid.”** \n",
      "\n",
      "Let’s continue the conversation:\n",
      "\n",
      "**Kein Problem! Was machst du heute?**  \n",
      "(No problem! What are you doing today?)\n"
     ]
    },
    {
     "name": "stdin",
     "output_type": "stream",
     "text": [
      "User:  Ich verstehe nicht\n"
     ]
    },
    {
     "name": "stdout",
     "output_type": "stream",
     "text": [
      "Bot: No worries! \"Ich verstehe nicht\" means \"I don't understand.\" Let's break it down a little:\n",
      "\n",
      "**\"Was machst du heute?\"** translates to **\"What are you doing today?\"**\n",
      "\n",
      "Now, you can respond with what you plan to do. For example, you could say:\n",
      "\n",
      "**\"Ich gehe ins Kino.\"** - \"I'm going to the cinema.\"\n",
      "\n",
      "Would you like to try answering that question now?\n"
     ]
    },
    {
     "name": "stdin",
     "output_type": "stream",
     "text": [
      "User:  Ich gehe ins Kino\n"
     ]
    },
    {
     "name": "stdout",
     "output_type": "stream",
     "text": [
      "Bot: Great job! **\"Ich gehe ins Kino.\"** means **\"I'm going to the cinema.\"**\n",
      "\n",
      "Let’s continue the conversation:\n",
      "\n",
      "**Viel Spaß im Kino! Was wirst du dir ansehen?**  \n",
      "(Have fun at the cinema! What will you watch?)\n"
     ]
    },
    {
     "name": "stdin",
     "output_type": "stream",
     "text": [
      "User:  Monty Python and the holy grail\n"
     ]
    },
    {
     "name": "stdout",
     "output_type": "stream",
     "text": [
      "Bot: That’s a classic! In German, you would say:\n",
      "\n",
      "**\"Ich werde Monty Python und die Ritter der Kokosnuss ansehen.\"** (I will watch Monty Python and the Holy Grail.)\n",
      "\n",
      "Now, let's continue our conversation:\n",
      "\n",
      "**Klingt gut! Magst du Komödien?**  \n",
      "(Sounds good! Do you like comedies?)\n"
     ]
    },
    {
     "name": "stdin",
     "output_type": "stream",
     "text": [
      "User:  Nein, Ich keine Magst du Komodien\n"
     ]
    },
    {
     "name": "stdout",
     "output_type": "stream",
     "text": [
      "Bot: You're almost there! The correct phrase would be **\"Nein, ich mag keine Komödien.\"** (No, I don’t like comedies.)\n",
      "\n",
      "Let’s continue:\n",
      "\n",
      "**Was magst du stattdessen?**  \n",
      "(What do you like instead?)\n"
     ]
    },
    {
     "name": "stdin",
     "output_type": "stream",
     "text": [
      "User:  Ich mag Drama\n"
     ]
    },
    {
     "name": "stdout",
     "output_type": "stream",
     "text": [
      "Bot: That's correct! **\"Ich mag Drama.\"** means **\"I like drama.\"**\n",
      "\n",
      "Let’s keep going:\n",
      "\n",
      "**Sehr schön! Hast du einen Lieblingsfilm im Drama-Genre?**  \n",
      "(Very nice! Do you have a favorite movie in the drama genre?)\n"
     ]
    },
    {
     "name": "stdin",
     "output_type": "stream",
     "text": [
      "User:  Ich mag en Englisch \"There will be blood\"\n"
     ]
    },
    {
     "name": "stdout",
     "output_type": "stream",
     "text": [
      "Bot: Great response! You can say: **\"Ich mag den Film 'There Will Be Blood'.\"** \n",
      "\n",
      "Next question:\n",
      "\n",
      "**Interessant! Warum magst du diesen Film?**  \n",
      "(Interesting! Why do you like this movie?)\n"
     ]
    }
   ],
   "source": [
    "print(\"Start chatting with the bot (type 'quit' to stop)!\")\n",
    "chatbot()"
   ]
  },
  {
   "cell_type": "code",
   "execution_count": null,
   "id": "a7fa0d82-5178-440c-bd80-e6215b1c4a10",
   "metadata": {},
   "outputs": [],
   "source": []
  }
 ],
 "metadata": {
  "kernelspec": {
   "display_name": "Python 3 (ipykernel)",
   "language": "python",
   "name": "python3"
  },
  "language_info": {
   "codemirror_mode": {
    "name": "ipython",
    "version": 3
   },
   "file_extension": ".py",
   "mimetype": "text/x-python",
   "name": "python",
   "nbconvert_exporter": "python",
   "pygments_lexer": "ipython3",
   "version": "3.10.11"
  }
 },
 "nbformat": 4,
 "nbformat_minor": 5
}
