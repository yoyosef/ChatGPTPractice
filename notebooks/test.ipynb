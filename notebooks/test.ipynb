{
 "cells": [
  {
   "cell_type": "code",
   "execution_count": 3,
   "id": "491ff752-068f-4732-9492-2f276f591476",
   "metadata": {},
   "outputs": [
    {
     "data": {
      "text/plain": [
       "True"
      ]
     },
     "execution_count": 3,
     "metadata": {},
     "output_type": "execute_result"
    }
   ],
   "source": [
    "from dotenv import load_dotenv\n",
    "load_dotenv()  # take environment variables from .env."
   ]
  },
  {
   "cell_type": "code",
   "execution_count": 4,
   "id": "17b84016-e7aa-4b38-b6de-50ab5a8a0426",
   "metadata": {},
   "outputs": [],
   "source": [
    "from openai import OpenAI\n",
    "client = OpenAI()"
   ]
  },
  {
   "cell_type": "code",
   "execution_count": 8,
   "id": "f49e044c-628c-4e45-a540-f573489cef1c",
   "metadata": {},
   "outputs": [],
   "source": [
    "completion = client.chat.completions.create(\n",
    "    model=\"gpt-4o-mini\",\n",
    "    messages=[\n",
    "        {\"role\": \"system\", \"content\": \"You are an assistant helps the user learn to read mandarin. You will use your memory of the conversation to ask the user questions about characters they're learning and want to learn. Please start with the top 50 most common characters and phrases. Use common langauge learning techniques to help the user learn better.\"},\n",
    "        {\n",
    "            \"role\": \"user\",\n",
    "            \"content\": \"Please teach me some mandarin characters.\"\n",
    "        }\n",
    "    ]\n",
    ")"
   ]
  },
  {
   "cell_type": "code",
   "execution_count": 9,
   "id": "d3daa1e7-b59c-477f-b1d5-2bfac19102b9",
   "metadata": {},
   "outputs": [
    {
     "name": "stdout",
     "output_type": "stream",
     "text": [
      "ChatCompletionMessage(content='Sure! Let\\'s start with some of the most common Mandarin characters. Here are the first five characters along with their meanings and pronunciations:\\n\\n1. **的 (de)** - [pronounced \"duh\"] - a possessive particle used to indicate possession.\\n2. **是 (shì)** - [pronounced \"shrr\"] - to be (is/am/are).\\n3. **不 (bù)** - [pronounced \"boo\"] - no/not.\\n4. **在 (zài)** - [pronounced \"zai\"] - at/in/on.\\n5. **人 (rén)** - [pronounced \"ren\"] - person/people.\\n\\nTo help you learn them better, try practicing writing them out and saying them aloud. Here’s a question for you: Do you recognize any of these characters, or is there one you’d like to focus on more?', refusal=None, role='assistant', function_call=None, tool_calls=None)\n"
     ]
    }
   ],
   "source": [
    "print(completion.choices[0].message)"
   ]
  },
  {
   "cell_type": "code",
   "execution_count": 10,
   "id": "626ff3d6-e065-444d-bc6d-450353689cd7",
   "metadata": {},
   "outputs": [
    {
     "name": "stdout",
     "output_type": "stream",
     "text": [
      "Sure! Let's start with some of the most common Mandarin characters. Here are the first five characters along with their meanings and pronunciations:\n",
      "\n",
      "1. **的 (de)** - [pronounced \"duh\"] - a possessive particle used to indicate possession.\n",
      "2. **是 (shì)** - [pronounced \"shrr\"] - to be (is/am/are).\n",
      "3. **不 (bù)** - [pronounced \"boo\"] - no/not.\n",
      "4. **在 (zài)** - [pronounced \"zai\"] - at/in/on.\n",
      "5. **人 (rén)** - [pronounced \"ren\"] - person/people.\n",
      "\n",
      "To help you learn them better, try practicing writing them out and saying them aloud. Here’s a question for you: Do you recognize any of these characters, or is there one you’d like to focus on more?\n"
     ]
    }
   ],
   "source": [
    "print(completion.choices[0].message.content)"
   ]
  },
  {
   "cell_type": "code",
   "execution_count": 15,
   "id": "d3bcdca0-2c60-44e5-8f49-ece7936e09d5",
   "metadata": {},
   "outputs": [],
   "source": [
    "# Inspired by Article: https://ihsavru.medium.com/how-to-build-your-own-custom-chatgpt-using-python-openai-78e470d1540e\n",
    "def chatbot():\n",
    "  # Keep repeating the following\n",
    "  messages = [{\"role\": \"system\", \"content\": \"You are an assistant helps the user learn to read mandarin. You will use your memory of the conversation to ask the user questions about characters they're learning and want to learn. Please start with the top 50 most common characters and phrases. Use common langauge learning techniques to help the user learn better.\"}]\n",
    "    \n",
    "  while True:\n",
    "    # Prompt user for input\n",
    "    message = input(\"User: \")\n",
    "      \n",
    "    # Exit program if user inputs \"quit\"\n",
    "    if message.lower() == \"quit\":\n",
    "      break\n",
    "    \n",
    "    # Add each new message to the list\n",
    "    messages.append({\"role\": \"user\", \"content\": message})\n",
    "      \n",
    "    completion = client.chat.completions.create(\n",
    "    model=\"gpt-4o-mini\",\n",
    "    messages=messages)\n",
    "\n",
    "    # Print the response and add it to the messages list\n",
    "    chat_message = completion.choices[0].message.content\n",
    "    print(f\"Bot: {chat_message}\")\n",
    "    messages.append({\"role\": \"assistant\", \"content\": chat_message})"
   ]
  },
  {
   "cell_type": "code",
   "execution_count": 16,
   "id": "33036511-eba7-438a-94cb-88a28d4289c8",
   "metadata": {},
   "outputs": [
    {
     "name": "stdout",
     "output_type": "stream",
     "text": [
      "Start chatting with the bot (type 'quit' to stop)!\n"
     ]
    },
    {
     "name": "stdin",
     "output_type": "stream",
     "text": [
      "User:  teach me\n"
     ]
    },
    {
     "name": "stdout",
     "output_type": "stream",
     "text": [
      "Bot: Sure! Let's start with some of the most common Mandarin characters and phrases. Here are a few to get us going:\n",
      "\n",
      "1. 你好 (nǐ hǎo) - Hello\n",
      "2. 谢谢 (xiè xie) - Thank you\n",
      "3. 对不起 (duì bù qǐ) - Sorry\n",
      "4. 请 (qǐng) - Please\n",
      "5. 是 (shì) - Yes / to be\n",
      "6. 不 (bù) - No / not\n",
      "7. 我 (wǒ) - I / me\n",
      "8. 你 (nǐ) - You\n",
      "9. 他 (tā) - He / him\n",
      "10. 她 (tā) - She / her\n",
      "\n",
      "Do you have a specific character or phrase you would like to focus on first? Or is there any character from this list that you find particularly interesting or want to learn more about?\n"
     ]
    },
    {
     "name": "stdin",
     "output_type": "stream",
     "text": [
      "User:  Any of these characters is fine. Help me with pronunciation as well.\n"
     ]
    },
    {
     "name": "stdout",
     "output_type": "stream",
     "text": [
      "Bot: Great! Let’s start with the first one: 你好 (nǐ hǎo). \n",
      "\n",
      "### 你好 (nǐ hǎo) - Hello\n",
      "\n",
      "**Pronunciation:**\n",
      "- 你 (nǐ) - sounds like \"nee\" with a rising tone.\n",
      "- 好 (hǎo) - sounds like \"how\" but with a dip in the middle (third tone).\n",
      "\n",
      "### Breakdown:\n",
      "- **你 (nǐ)** means \"you.\"\n",
      "- **好 (hǎo)** means \"good.\"\n",
      "\n",
      "When you put them together, 你好 means \"You good?\" which is a common way to say hello!\n",
      "\n",
      "### Practice:\n",
      "1. Try saying “你好” out loud, focusing on the tones.\n",
      "2. Remember, the first part (你) has a rising tone, and the second part (好) has a dip.\n",
      "\n",
      "Would you like to try another character or phrase next? Or would you like to practice 你好 some more?\n"
     ]
    },
    {
     "name": "stdin",
     "output_type": "stream",
     "text": [
      "User:  how do i memorize a character like those?\n"
     ]
    },
    {
     "name": "stdout",
     "output_type": "stream",
     "text": [
      "Bot: Memorizing characters can be challenging, but here are some effective strategies you can use:\n",
      "\n",
      "### 1. **Visual Association:**\n",
      "   - Create a mental image that connects the character to its meaning. For 你好, you can picture a friendly greeting or two people shaking hands, as it means \"hello.\"\n",
      "\n",
      "### 2. **Break It Down:**\n",
      "   - Break the character into components. For example, 你 consists of \"尔\" (er) which means \"you\" and includes the character \"你\" itself. \n",
      "   - Similarly, 好 can be split into \"女\" (nǚ), meaning \"woman,\" and \"子\" (zǐ), meaning \"child,\" suggesting a woman (mother) and her child = good.\n",
      "\n",
      "### 3. **Repetition:**\n",
      "   - Write the characters repeatedly while saying their pronunciation out loud. This helps reinforce muscle memory. \n",
      "\n",
      "### 4. **Flashcards:**\n",
      "   - Create flashcards with the character on one side and the pronunciation and meaning on the other. Review them regularly.\n",
      "\n",
      "### 5. **Contextual Usage:**\n",
      "   - Use the characters in sentences or dialogues. For example: \"你好, 你好吗?\" (Hello, how are you?). This helps you remember them in context.\n",
      "\n",
      "### 6. **Practice with Apps or Tools:**\n",
      "   - Use language-learning apps that focus on writing and pronunciation, such as Skritter or Anki, where you can practice characters interactively.\n",
      "\n",
      "### 7. **Mnemonics:**\n",
      "   - Create a story or a quirky phrase that connects the sound of the character to its meaning. For example: \"Nǐ hǎo sounds like 'Knee how?' which reminds you to greet someone casually with a wave!\"\n",
      "\n",
      "### Putting It into Practice:\n",
      "Try making a flashcard for 你好 and practice writing it while saying \"nǐ hǎo\" out loud. If you’d like, I can suggest a few more characters for practice! Would you like to move on?\n"
     ]
    },
    {
     "name": "stdin",
     "output_type": "stream",
     "text": [
      "User:  give me a better mnemonic because tones are important\n"
     ]
    },
    {
     "name": "stdout",
     "output_type": "stream",
     "text": [
      "Bot: You're right! Tones are crucial in Mandarin, and having a mnemonic that reinforces them can make a big difference. Here’s a tone-focused mnemonic for 你好 (nǐ hǎo):\n",
      "\n",
      "### Mnemonic for 你好 (nǐ hǎo):\n",
      "\n",
      "- **Nǐ (你)** - Imagine a **knee** that **rises** up (the rising tone, like your voice going up).\n",
      "- **Hǎo (好)** - Picture someone saying \"how\" with a **dipping** motion (the third tone, like your voice going down and then back up).\n",
      "\n",
      "### Story:\n",
      "Picture yourself seeing a friend with a **knee** injury. You bend down to check on them and say, \"Hey, **knee**! How are you doing?\" \n",
      "\n",
      "- The word \"knee\" reminds you of 你 (nǐ) and its rising tone.\n",
      "- The word \"how\" relates to 好 (hǎo), which has the dipping tone.\n",
      "\n",
      "By connecting the physical action with the tone, it might help you remember both the pronunciation and the meaning better.\n",
      "\n",
      "### Summary:\n",
      "- **你 (nǐ)**: Think of your knee rising → \"nǐ\" with a rising tone.\n",
      "- **好 (hǎo)**: Think of saying \"how\" while dipping down → \"hǎo\" with a dipping tone.\n",
      "\n",
      "Would you like to create mnemonics for other characters, or is there something specific you want to work on next?\n"
     ]
    },
    {
     "name": "stdin",
     "output_type": "stream",
     "text": [
      "User:  do both ni and hao have a falling-rising tone \n"
     ]
    },
    {
     "name": "stdout",
     "output_type": "stream",
     "text": [
      "Bot: Actually, **你 (nǐ)** and **好 (hǎo)** have different tones:\n",
      "\n",
      "1. **你 (nǐ)** - This character has the **third tone**, which is a falling-rising tone. It starts at a mid-level pitch, dips down, and then rises. You can remember it with the mnemonic of bending your knee—starting low and then rising as you stand up.\n",
      "\n",
      "2. **好 (hǎo)** - This character has the **third tone** as well, meaning it also has that same falling-rising tone. \n",
      "\n",
      "### Clarification:\n",
      "Since both 你 (nǐ) and 好 (hǎo) share the same falling-rising third tone, you can use the same tone mnemonic for both. \n",
      "\n",
      "### Revised Mnemonic:\n",
      "For both characters:\n",
      "- **You start down low** (like a deep voice) for both, dip down, and then **rise back up** (like you're looking forward to greeting someone!).\n",
      "\n",
      "Would you like to practice more characters, or perhaps go deeper into tone practice?\n"
     ]
    },
    {
     "name": "stdin",
     "output_type": "stream",
     "text": [
      "User:  Teach me tones\n"
     ]
    },
    {
     "name": "stdout",
     "output_type": "stream",
     "text": [
      "Bot: Absolutely! Understanding tones is one of the most important aspects of learning Mandarin. There are four primary tones in Mandarin, plus a neutral tone. Here’s a breakdown of each:\n",
      "\n",
      "### 1. First Tone (High-level tone) - ˉ\n",
      "- **Pitch:** High and steady.\n",
      "- **Pronunciation:** Similar to singing a high note. \n",
      "- **Example:** 妈 (mā) - means \"mother.\"\n",
      "- **Mnemonic:** Imagine being on top of a mountain, holding a note. You stay at that high level without dropping.\n",
      "\n",
      "### 2. Second Tone (Rising tone) - ˊ\n",
      "- **Pitch:** Starts at a mid-level and rises.\n",
      "- **Pronunciation:** Similar to asking a question: \"Really?\" \n",
      "- **Example:** 麻 (má) - means \"hemp.\"\n",
      "- **Mnemonic:** Think of a balloon rising up into the air.\n",
      "\n",
      "### 3. Third Tone (Falling-rising tone) - ˇ\n",
      "- **Pitch:** Starts mid, drops down, then rises.\n",
      "- **Pronunciation:** Similar to the sound \"uh-huh\" as a casual agreement. \n",
      "- **Example:** 马 (mǎ) - means \"horse.\"\n",
      "- **Mnemonic:** Visualize a roller coaster—going down first and then climbing back up.\n",
      "\n",
      "### 4. Fourth Tone (Falling tone) - ˋ\n",
      "- **Pitch:** Starts high and drops sharply.\n",
      "- **Pronunciation:** Similar to giving a command: \"Stop!\"\n",
      "- **Example:** 骂 (mà) - means \"to scold.\"\n",
      "- **Mnemonic:** Imagine shouting down from a high cliff, your voice dropping quickly as you shout.\n",
      "\n",
      "### 5. Neutral Tone (Light tone) - ˙\n",
      "- **Pitch:** A light and quick tone, with no specific pitch contour.\n",
      "- **Pronunciation:** It’s short and can be lighter than the other tones.\n",
      "- **Example:** 吗 (ma) - a question particle.\n",
      "- **Mnemonic:** Think of a quick, soft sound like a sigh or a breath that doesn’t carry much weight.\n",
      "\n",
      "### Practice Tips:\n",
      "1. **Repetition:** Practice each tone by saying words that use them. Listening to native speakers can help solidify your understanding.\n",
      "2. **Minimal Pairs:** Work with pairs of words that are the same except for the tone to see how meaning changes, like:\n",
      "   - Mā (妈, mother) vs. Mǎ (马, horse)\n",
      "   - Mà (骂, scold) vs. Má (麻, hemp)\n",
      "\n",
      "3. **Recording:** Try recording your pronunciation to see how closely it matches native speakers.\n",
      "\n",
      "4. **Tone Drills:** Incorporate tone drills into your practice, where you repeat tones or words in varied sequences to get familiar with switching.\n",
      "\n",
      "Would you like to try practicing tones with some specific words, or is there anything else you would like to focus on?\n"
     ]
    },
    {
     "name": "stdin",
     "output_type": "stream",
     "text": [
      "User:  quit\n"
     ]
    }
   ],
   "source": [
    "print(\"Start chatting with the bot (type 'quit' to stop)!\")\n",
    "chatbot()"
   ]
  },
  {
   "cell_type": "code",
   "execution_count": null,
   "id": "054bcc68-bbb0-4261-9e97-3a5220633593",
   "metadata": {},
   "outputs": [],
   "source": []
  }
 ],
 "metadata": {
  "kernelspec": {
   "display_name": "Python 3 (ipykernel)",
   "language": "python",
   "name": "python3"
  },
  "language_info": {
   "codemirror_mode": {
    "name": "ipython",
    "version": 3
   },
   "file_extension": ".py",
   "mimetype": "text/x-python",
   "name": "python",
   "nbconvert_exporter": "python",
   "pygments_lexer": "ipython3",
   "version": "3.10.11"
  }
 },
 "nbformat": 4,
 "nbformat_minor": 5
}
